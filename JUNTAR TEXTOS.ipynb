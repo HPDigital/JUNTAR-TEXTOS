{
 "cells": [
  {
   "cell_type": "code",
   "execution_count": 2,
   "id": "20420050-5e3c-4444-9846-7fa53a272e3f",
   "metadata": {},
   "outputs": [
    {
     "name": "stdout",
     "output_type": "stream",
     "text": [
      "Archivos .txt combinados en: C:\\Users\\HP\\Desktop\\LIBROS PERSO\\INVESTIGACION DE MERCADOS\\TEXTOS INVESTIGACION DE MERCADO\\TEXTOS\\archivo_final.txt\n"
     ]
    }
   ],
   "source": [
    "import os\n",
    "\n",
    "def juntar_txt(directorio, archivo_salida):\n",
    "    # Abrimos el archivo de salida en modo escritura\n",
    "    with open(archivo_salida, 'w', encoding='utf-8') as archivo_final:\n",
    "        # Iteramos sobre todos los archivos .txt en el directorio\n",
    "        for nombre_archivo in os.listdir(directorio):\n",
    "            if nombre_archivo.endswith(\".txt\"):\n",
    "                ruta_archivo = os.path.join(directorio, nombre_archivo)\n",
    "                # Abrimos cada archivo .txt y lo añadimos al archivo final\n",
    "                with open(ruta_archivo, 'r', encoding='utf-8') as archivo_txt:\n",
    "                    contenido = archivo_txt.read()\n",
    "                    archivo_final.write(contenido + '\\n')  # Añadimos un salto de línea al final de cada archivo\n",
    "\n",
    "    print(f\"Archivos .txt combinados en: {archivo_salida}\")\n",
    "\n",
    "# Ejemplo de uso\n",
    "directorio = r\"C:\\Users\\HP\\Desktop\\LIBROS PERSO\\INVESTIGACION DE MERCADOS\\TEXTOS INVESTIGACION DE MERCADO\\TEXTOS\"  # Cambia esta ruta por la del directorio que contiene los archivos .txt\n",
    "archivo_salida = r\"C:\\Users\\HP\\Desktop\\LIBROS PERSO\\INVESTIGACION DE MERCADOS\\TEXTOS INVESTIGACION DE MERCADO\\TEXTOS\\archivo_final.txt\"  # Cambia esta ruta por la ubicación donde quieras guardar el archivo final\n",
    "\n",
    "juntar_txt(directorio, archivo_salida)\n"
   ]
  },
  {
   "cell_type": "code",
   "execution_count": null,
   "id": "fb86936e-21f4-4ddc-8bce-a5fd4d216209",
   "metadata": {},
   "outputs": [],
   "source": []
  }
 ],
 "metadata": {
  "kernelspec": {
   "display_name": "Python 3 (ipykernel)",
   "language": "python",
   "name": "python3"
  },
  "language_info": {
   "codemirror_mode": {
    "name": "ipython",
    "version": 3
   },
   "file_extension": ".py",
   "mimetype": "text/x-python",
   "name": "python",
   "nbconvert_exporter": "python",
   "pygments_lexer": "ipython3",
   "version": "3.11.9"
  }
 },
 "nbformat": 4,
 "nbformat_minor": 5
}
